{
 "cells": [
  {
   "cell_type": "markdown",
   "metadata": {},
   "source": [
    "# Convolutional Neural Network\n",
    "\n"
   ]
  },
  {
   "cell_type": "code",
   "execution_count": 1,
   "metadata": {},
   "outputs": [
    {
     "name": "stdout",
     "output_type": "stream",
     "text": [
      "A\n",
      "B\n",
      "E\n",
      "F\n",
      "C\n",
      "D\n",
      "C\n"
     ]
    },
    {
     "data": {
      "text/plain": [
       "{'A', 'B', 'C', 'D', 'E', 'F'}"
      ]
     },
     "execution_count": 1,
     "metadata": {},
     "output_type": "execute_result"
    }
   ],
   "source": [
    "# DFS Algorithm\n",
    "def dfs(graph, start, visited=None):\n",
    "\tif visited is None:\n",
    "\t\tvisited = set()\n",
    "\tvisited.add(start)\n",
    "\tprint(start)\n",
    "\tfor next in graph[start] - visited:\n",
    "\t\tdfs(graph, next, visited)\n",
    "\treturn visited\n",
    "\n",
    "graph = {\n",
    "\t'A': set(['B', 'C']),\n",
    "\t'B': set(['A', 'D', 'E']),\n",
    "\t'C': set(['A', 'F']),\n",
    "\t'D': set(['B']),\n",
    "\t'E': set(['B', 'F']),\n",
    "\t'F': set(['C', 'E'])\n",
    "}\n",
    "\n",
    "dfs(graph, 'A')\n"
   ]
  },
  {
   "cell_type": "code",
   "execution_count": 2,
   "metadata": {},
   "outputs": [
    {
     "name": "stdout",
     "output_type": "stream",
     "text": [
      "A\n",
      "B\n",
      "C\n",
      "E\n",
      "D\n",
      "F\n"
     ]
    },
    {
     "data": {
      "text/plain": [
       "{'A', 'B', 'C', 'D', 'E', 'F'}"
      ]
     },
     "execution_count": 2,
     "metadata": {},
     "output_type": "execute_result"
    }
   ],
   "source": [
    "# BFS Algorithm\n",
    "def bfs(graph, start):\n",
    "\tvisited, queue = set(), [start]\n",
    "\twhile queue:\n",
    "\t\tvertex = queue.pop(0)\n",
    "\t\tif vertex not in visited:\n",
    "\t\t\tvisited.add(vertex)\n",
    "\t\t\tprint(vertex)\n",
    "\t\t\tqueue.extend(graph[vertex] - visited)\n",
    "\treturn visited\n",
    "\n",
    "bfs(graph, 'A')"
   ]
  },
  {
   "cell_type": "code",
   "execution_count": 3,
   "metadata": {},
   "outputs": [
    {
     "name": "stdout",
     "output_type": "stream",
     "text": [
      "Net(\n",
      "  (conv1): Conv2d(1, 6, kernel_size=(5, 5), stride=(1, 1))\n",
      "  (conv2): Conv2d(6, 16, kernel_size=(5, 5), stride=(1, 1))\n",
      "  (fc1): Linear(in_features=400, out_features=120, bias=True)\n",
      "  (fc2): Linear(in_features=120, out_features=84, bias=True)\n",
      "  (fc3): Linear(in_features=84, out_features=10, bias=True)\n",
      ")\n"
     ]
    }
   ],
   "source": [
    "# Implement a Covolutional Neural Network\n",
    "import torch\n",
    "import torch.nn as nn\n",
    "import torch.nn.functional as F\n",
    "\n",
    "class Net(nn.Module):\n",
    "\tdef __init__(self):\n",
    "\t\tsuper(Net, self).__init__()\n",
    "\t\tself.conv1 = nn.Conv2d(1, 6, 5)\n",
    "\t\tself.conv2 = nn.Conv2d(6, 16, 5)\n",
    "\t\tself.fc1 = nn.Linear(16 * 5 * 5, 120)\n",
    "\t\tself.fc2 = nn.Linear(120, 84)\n",
    "\t\tself.fc3 = nn.Linear(84, 10)\n",
    "\n",
    "\tdef forward(self, x):\n",
    "\t\tx = F.max_pool2d(F.relu(self.conv1(x)), (2, 2))\n",
    "\t\tx = F.max_pool2d(F.relu(self.conv2(x)), 2)\n",
    "\t\tx = x.view(-1, self.num_flat_features(x))\n",
    "\t\tx = F.relu(self.fc1(x))\n",
    "\t\tx = F.relu(self.fc2(x))\n",
    "\t\tx = self.fc3(x)\n",
    "\t\treturn x\n",
    "\n",
    "\tdef num_flat_features(self, x):\n",
    "\t\tsize = x.size()[1:]\n",
    "\t\tnum_features = 1\n",
    "\t\tfor s in size:\n",
    "\t\t\tnum_features *= s\n",
    "\t\treturn num_features\n",
    "\t\n",
    "net = Net()\n",
    "print(net)"
   ]
  },
  {
   "cell_type": "code",
   "execution_count": 8,
   "metadata": {},
   "outputs": [
    {
     "name": "stdout",
     "output_type": "stream",
     "text": [
      "[1, 1, 2, 3, 6, 8, 10]\n"
     ]
    }
   ],
   "source": [
    "# Quick Sort Algorithm\n",
    "def quicksort(arr):\n",
    "\tif len(arr) <= 1:\n",
    "\t\treturn arr\n",
    "\tpivot = arr[len(arr) // 2]\n",
    "\tleft = [x for x in arr if x < pivot]\n",
    "\tmiddle = [x for x in arr if x == pivot]\n",
    "\tright = [x for x in arr if x > pivot]\n",
    "\treturn quicksort(left) + middle + quicksort(right)\n",
    "\n",
    "print(quicksort([3, 6, 8, 10, 1, 2, 1]))"
   ]
  },
  {
   "cell_type": "code",
   "execution_count": null,
   "metadata": {},
   "outputs": [],
   "source": []
  }
 ],
 "metadata": {
  "kernelspec": {
   "display_name": "Python 3",
   "language": "python",
   "name": "python3"
  },
  "language_info": {
   "codemirror_mode": {
    "name": "ipython",
    "version": 3
   },
   "file_extension": ".py",
   "mimetype": "text/x-python",
   "name": "python",
   "nbconvert_exporter": "python",
   "pygments_lexer": "ipython3",
   "version": "3.12.0"
  }
 },
 "nbformat": 4,
 "nbformat_minor": 2
}
